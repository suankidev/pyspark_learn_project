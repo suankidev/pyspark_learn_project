{
 "cells": [
  {
   "cell_type": "code",
   "execution_count": null,
   "id": "767e7857-37bf-49da-93bc-cff71d1b5b5a",
   "metadata": {},
   "outputs": [],
   "source": []
  },
  {
   "cell_type": "code",
   "execution_count": null,
   "id": "197fdab5-62c5-4613-a670-566c52b871fd",
   "metadata": {},
   "outputs": [],
   "source": []
  }
 ],
 "metadata": {
  "kernelspec": {
   "display_name": "Python 3",
   "language": "python",
   "name": "python3"
  },
  "language_info": {
   "name": ""
  }
 },
 "nbformat": 4,
 "nbformat_minor": 5
}
