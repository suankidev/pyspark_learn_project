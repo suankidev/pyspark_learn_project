{
 "cells": [
  {
   "cell_type": "code",
   "execution_count": null,
   "id": "329e3209-bdd8-4caa-bd56-bdd5618c427e",
   "metadata": {},
   "outputs": [],
   "source": [
    "%%HTML\n",
    "<iframe src=\"https://www.youtube.com/watch?v=HW29067qVWk&list=PL-osiE80TeTt2d9bfVyTiXJA-UTHn6WwU&index=17\"></iframe>\n",
    "\n"
   ]
  },
  {
   "cell_type": "code",
   "execution_count": 3,
   "id": "197fdab5-62c5-4613-a670-566c52b871fd",
   "metadata": {},
   "outputs": [
    {
     "name": "stdout",
     "output_type": "stream",
     "text": [
      " Volume in drive C is OS\n",
      " Volume Serial Number is C48C-82FC\n",
      "\n",
      " Directory of C:\\Users\\sujee\\pydev\\pyspark_learn_project\\py_learn\\basics\n",
      "\n",
      "12-02-2023  18:32    <DIR>          .\n",
      "12-02-2023  18:08    <DIR>          ..\n",
      "12-02-2023  18:04    <DIR>          .ipynb_checkpoints\n",
      "11-02-2023  00:47                 0 __init__.py\n",
      "12-02-2023  00:29    <DIR>          __pycache__\n",
      "11-02-2023  01:32             1,119 2_Strings_working_with_string.py\n",
      "11-02-2023  01:46               406 3_Integers_floats.py\n",
      "11-02-2023  11:01             2,650 4_list_tuples_sets.py\n",
      "11-02-2023  02:44               818 5_dictionary.py\n",
      "11-02-2023  23:55             1,113 6_conditional_and_boolean.py\n",
      "12-02-2023  00:03               469 7_loops_and_iteration.py\n",
      "12-02-2023  00:20               666 8_functions.py\n",
      "12-02-2023  15:55               982 9_import_modules.py\n",
      "11-02-2023  00:57             1,369 exercise1.py\n",
      "11-02-2023  01:07               480 exercise2.py\n",
      "12-02-2023  00:25               253 import_module_9_1.py\n",
      "12-02-2023  18:32             1,043 learn.ipynb\n",
      "12-02-2023  18:10               944 pip_basics_and_env.py\n",
      "25-06-2022  16:29            71,823 whole-l.py\n",
      "              15 File(s)         84,135 bytes\n",
      "               4 Dir(s)  187,472,674,816 bytes free\n"
     ]
    }
   ],
   "source": [
    "%ls"
   ]
  },
  {
   "cell_type": "code",
   "execution_count": 1,
   "id": "efe2300b-ebb4-41f1-83fb-41e28903de6a",
   "metadata": {},
   "outputs": [
    {
     "name": "stderr",
     "output_type": "stream",
     "text": [
      "UsageError: %%timeit is a cell magic, but the cell body is empty. Did you mean the line magic %timeit (single %)?\n"
     ]
    }
   ],
   "source": [
    "%%timeit\n"
   ]
  },
  {
   "cell_type": "code",
   "execution_count": null,
   "id": "ceb59137-bc76-440b-a95e-4115b53c432a",
   "metadata": {},
   "outputs": [],
   "source": []
  }
 ],
 "metadata": {
  "kernelspec": {
   "display_name": "Python 3",
   "language": "python",
   "name": "python3"
  },
  "language_info": {
   "codemirror_mode": {
    "name": "ipython",
    "version": 3
   },
   "file_extension": ".py",
   "mimetype": "text/x-python",
   "name": "python",
   "nbconvert_exporter": "python",
   "pygments_lexer": "ipython3",
   "version": "3.8.8"
  }
 },
 "nbformat": 4,
 "nbformat_minor": 5
}
